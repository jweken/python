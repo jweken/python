{
 "cells": [
  {
   "cell_type": "markdown",
   "metadata": {},
   "source": [
    "# NyApp - Python\n",
    "\n",
    "Notebooks should contain only .ipunb files  \n",
    "Use this directory for experimenting with Python"
   ]
  },
  {
   "cell_type": "markdown",
   "metadata": {},
   "source": [
    "## Getting Started\n",
    "\n",
    "First of all you need tp know where you can find Python  \n",
    "on the [Internet](<https://www.python.org>)\n",
    "\n",
    "### Downloads\n",
    "\n",
    "You can download various versions of python [here](<https://www.python.org/downloads>)"
   ]
  },
  {
   "cell_type": "markdown",
   "metadata": {},
   "source": [
    "### Python Tutorial\n",
    "\n",
    "* [Start](<https://docs.python.org/3.10/tutorial/index.html>)"
   ]
  }
 ],
 "metadata": {
  "language_info": {
   "name": "python"
  }
 },
 "nbformat": 4,
 "nbformat_minor": 2
}
